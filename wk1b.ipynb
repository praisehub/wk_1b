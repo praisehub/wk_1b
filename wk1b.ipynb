{
 "cells": [
  {
   "cell_type": "code",
   "execution_count": 1,
   "id": "15b5acc5",
   "metadata": {},
   "outputs": [
    {
     "name": "stdout",
     "output_type": "stream",
     "text": [
      "An... An...  Anita?\n"
     ]
    }
   ],
   "source": [
    "#Q1: Create a function, that repeats the first 2 letters of a word which will be followed by 3 dots and a \n",
    "#space after. The string should be ended with a question mark.\n",
    "name = 'Anita'\n",
    "while name:\n",
    "    print(((name[0:2]+'...'' ')*2),name +'?')\n",
    "    break"
   ]
  },
  {
   "cell_type": "code",
   "execution_count": 2,
   "id": "da420731",
   "metadata": {},
   "outputs": [
    {
     "name": "stdout",
     "output_type": "stream",
     "text": [
      "e\n",
      "o\n",
      "a\n",
      "o\n",
      "o\n",
      "o\n",
      "a\n",
      "e\n",
      "a\n",
      "e\n",
      "o\n",
      "u\n",
      "a\n",
      "i\n"
     ]
    }
   ],
   "source": [
    "#Q2: Perform a for loop that searches through a string and prints only distinct vowel letters\n",
    "\n",
    "sentence = \"Perform a for loop that searches through a string\"\n",
    "vowel_letters = \"aeiouAEIOU\" \n",
    "for letters in sentence:\n",
    "    if letters in vowel_letters:\n",
    "        print(letters)"
   ]
  },
  {
   "cell_type": "code",
   "execution_count": null,
   "id": "0768a3e7",
   "metadata": {},
   "outputs": [],
   "source": [
    "#Q3: Perform a while loop that requests for a name, if that name is entered, it will be printed else,\n",
    "#if user types “end” (this command should be case insensitive), the while loop is terminated \n",
    "user_name = \"Manex\"\n",
    "while True:\n",
    "    choice = input('Enter your choice: ') \n",
    "    if choice == user_name:\n",
    "        print(user_name)\n",
    "    if choice == 'end' or 'End' or 'ENd' or 'enD' or 'EnD':\n",
    "        break"
   ]
  },
  {
   "cell_type": "code",
   "execution_count": null,
   "id": "c48d47a7",
   "metadata": {},
   "outputs": [],
   "source": []
  }
 ],
 "metadata": {
  "kernelspec": {
   "display_name": "Python 3 (ipykernel)",
   "language": "python",
   "name": "python3"
  },
  "language_info": {
   "codemirror_mode": {
    "name": "ipython",
    "version": 3
   },
   "file_extension": ".py",
   "mimetype": "text/x-python",
   "name": "python",
   "nbconvert_exporter": "python",
   "pygments_lexer": "ipython3",
   "version": "3.9.12"
  }
 },
 "nbformat": 4,
 "nbformat_minor": 5
}
